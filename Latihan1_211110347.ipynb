{
 "cells": [
  {
   "cell_type": "code",
   "execution_count": null,
   "metadata": {},
   "outputs": [],
   "source": [
    "# Intro"
   ]
  },
  {
   "cell_type": "code",
   "execution_count": 4,
   "metadata": {},
   "outputs": [
    {
     "name": "stdout",
     "output_type": "stream",
     "text": [
      "Nama Lengkap : Cindy Sintiya\n"
     ]
    },
    {
     "data": {
      "text/plain": [
       "'Cindy Sintiya'"
      ]
     },
     "execution_count": 4,
     "metadata": {},
     "output_type": "execute_result"
    }
   ],
   "source": [
    "class Testing :\n",
    "    def __namalengkap(self, depan, belakang) :   # tidak bisa diakses diluar kelas\n",
    "        return depan + \" \" + belakang\n",
    "    def cetakNama(self, depan, belakang) :\n",
    "        print(\"Nama Lengkap :\", self.__namalengkap(depan, belakang))\n",
    "\n",
    "test = Testing()\n",
    "test.cetakNama(\"Cindy\", \"Sintiya\")\n",
    "test._Testing__namalengkap(\"Cindy\", \"Sintiya\")   # cara agar terpanggil yg private"
   ]
  },
  {
   "cell_type": "code",
   "execution_count": 5,
   "metadata": {},
   "outputs": [
    {
     "name": "stdout",
     "output_type": "stream",
     "text": [
      "<__main__.Mahasiswa object at 0x0000018313EC7BE0>\n",
      "211110347\n",
      "Cindy S\n"
     ]
    }
   ],
   "source": [
    "# Membuat kelas\n",
    "class Mahasiswa :\n",
    "    pass\n",
    "\n",
    "# Membuat object dr kelas Mahasiswa\n",
    "mhs1 = Mahasiswa()\n",
    "\n",
    "# Membuat atribut\n",
    "mhs1.nim = \"211110347\"\n",
    "mhs1.nama = \"Cindy S\"\n",
    "\n",
    "print(mhs1)\n",
    "print(mhs1.nim)\n",
    "print(mhs1.nama)"
   ]
  },
  {
   "cell_type": "code",
   "execution_count": 6,
   "metadata": {},
   "outputs": [
    {
     "name": "stdout",
     "output_type": "stream",
     "text": [
      "NIM  : 123456789\n",
      "Nama : Andi\n",
      "\n",
      "NIM  : 987654321\n",
      "Nama : Budi\n",
      "\n",
      "NIM  : 211110347\n",
      "Nama : Cindy\n",
      "\n"
     ]
    }
   ],
   "source": [
    "# Membuat kelas\n",
    "class Mahasiswa :\n",
    "    # constructor dgn parameter NIM & Nama\n",
    "    def __init__(self, nim, nama):\n",
    "        # property NIM Nama pd kelas Mahasiswa\n",
    "        self.nim = nim\n",
    "        self.nama = nama\n",
    "    # method cetakInfo\n",
    "    def cetakInfo(self) :\n",
    "        print(\"NIM  :\", self.nim)\n",
    "        print(\"Nama :\", self.nama)\n",
    "        print()\n",
    "    \n",
    "# Membuat object dr kelas Mahasiswa\n",
    "mhs1 = Mahasiswa(\"123456789\", \"Andi\")\n",
    "mhs2 = Mahasiswa(\"987654321\", \"Budi\")\n",
    "mhs3 = Mahasiswa(\"211110347\", \"Cindy\")\n",
    "\n",
    "mhs1.cetakInfo()\n",
    "mhs2.cetakInfo()\n",
    "mhs3.cetakInfo()"
   ]
  },
  {
   "cell_type": "code",
   "execution_count": 7,
   "metadata": {},
   "outputs": [
    {
     "name": "stdout",
     "output_type": "stream",
     "text": [
      "Hasil = 1500\n"
     ]
    }
   ],
   "source": [
    "from ctypes import c_long\n",
    "\n",
    "class Test :\n",
    "    A : int\n",
    "    B : int\n",
    "    C : int\n",
    "    __hasil : c_long\n",
    "\n",
    "    def cetakHasil(self) :\n",
    "        self.__hasil = self.A * self.B * self.C\n",
    "        print(\"Hasil =\", self.__hasil)\n",
    "\n",
    "test = Test()\n",
    "test.A = 10\n",
    "test.B = 5\n",
    "test.C = 30\n",
    "test.cetakHasil()"
   ]
  },
  {
   "cell_type": "code",
   "execution_count": null,
   "metadata": {},
   "outputs": [],
   "source": [
    "# Praktek"
   ]
  },
  {
   "cell_type": "code",
   "execution_count": 3,
   "metadata": {},
   "outputs": [
    {
     "name": "stdout",
     "output_type": "stream",
     "text": [
      "Luas     = 200\n",
      "Keliling = 60\n",
      "Panjang  = 15\n",
      "Lebar    = 25\n",
      "Luas     = 375\n",
      "Keliling = 80\n"
     ]
    }
   ],
   "source": [
    "class persegiPanjang :\n",
    "    def __init__(self, p, l) :\n",
    "        self.p = p\n",
    "        self.l = l\n",
    "\n",
    "    def luas(self) :\n",
    "        return self.p * self.l\n",
    "\n",
    "    def keliling(self) :\n",
    "        print('Keliling =', 2*(self.p + self.l))\n",
    "    def hasil(self, p, l) :\n",
    "        print(f\"Panjang  = {p}\")\n",
    "        print(f\"Lebar    = {l}\")\n",
    "        print(f\"Luas     = {p*l}\")\n",
    "        print(f\"Keliling = {2*(p+l)}\")\n",
    "\n",
    "a = persegiPanjang(10, 20)\n",
    "print(f'Luas     = {a.luas()}')\n",
    "a.keliling()\n",
    "a.hasil(15, 25)"
   ]
  },
  {
   "cell_type": "code",
   "execution_count": null,
   "metadata": {},
   "outputs": [],
   "source": [
    "# Case Study"
   ]
  },
  {
   "cell_type": "code",
   "execution_count": 8,
   "metadata": {},
   "outputs": [
    {
     "name": "stdout",
     "output_type": "stream",
     "text": [
      "Nama Buku = Pemrograman Python\n",
      "Jenis Buku = Pemrograman\n",
      "Tahun Terbit Buku = 2021\n",
      "Penerbit Buku = No-Name\n",
      "Penulis Buku = No-Name\n",
      "Jumlah Halaman Buku = 120\n"
     ]
    }
   ],
   "source": [
    "class BUKU :\n",
    "    def __init__(self, nama, jenisBuku, tahunTerbit, penerbit, penulis, jumlahHalaman):\n",
    "        self.__nama = nama  # karena bersifat private\n",
    "        self.jenisBuku = jenisBuku\n",
    "        self.tahunTerbit = tahunTerbit\n",
    "        self.penerbit = penerbit\n",
    "        self.penulis = penulis\n",
    "        self.jumlahHalaman = jumlahHalaman\n",
    "    def cetak(self):\n",
    "        print(f\"Nama Buku = {self.__nama}\")\n",
    "        print(f\"Jenis Buku = {self.jenisBuku}\")\n",
    "        print(f\"Tahun Terbit Buku = {self.tahunTerbit}\")\n",
    "        print(f\"Penerbit Buku = {self.penerbit}\")\n",
    "        print(f\"Penulis Buku = {self.penulis}\")\n",
    "        print(f\"Jumlah Halaman Buku = {self.jumlahHalaman}\")\n",
    "    \n",
    "buku = BUKU(\"Pemrograman Python\", \"Pemrograman\", 2021, \"No-Name\", \"No-Name\", 120)\n",
    "buku.cetak()"
   ]
  },
  {
   "cell_type": "code",
   "execution_count": 10,
   "metadata": {},
   "outputs": [
    {
     "name": "stdout",
     "output_type": "stream",
     "text": [
      "NIM           : 0347\n",
      "Nama          : Cindy\n",
      "Prodi         : IF\n",
      "Jenis Kelamin : Female\n",
      "No HP         : 1234\n",
      "\n",
      "NIM           : 1390\n",
      "Nama          : Sintiya\n",
      "Prodi         : MN\n",
      "Jenis Kelamin : Female\n",
      "No HP         : 0852\n",
      "\n",
      "NIP           : 2013\n",
      "Nama          : Albert\n",
      "Jabatan       : Dosen Tetap\n",
      "Jenis Kelamin : Male\n",
      "No HP         : 0853\n",
      "\n",
      "NIP           : 8930\n",
      "Nama          : Laila\n",
      "Jabatan       : Dosen Kaprodi\n",
      "Jenis Kelamin : Female\n",
      "No HP         : 0812\n",
      "\n",
      "Total pengunjung : 4 orang\n"
     ]
    }
   ],
   "source": [
    "# Task 1 \n",
    "\n",
    "class Mahasiswa :\n",
    "    def __init__(self, nim, nama, prodi, gender, noHp) :\n",
    "        self.nim = nim\n",
    "        self.nama = nama\n",
    "        self.prodi = prodi\n",
    "        self.gender = gender\n",
    "        self.noHp = noHp\n",
    "\n",
    "    def cetak(self) :\n",
    "        print(\"NIM           :\", self.nim)\n",
    "        print(\"Nama          :\", self.nama)\n",
    "        print(\"Prodi         :\", self.prodi)\n",
    "        print(\"Jenis Kelamin :\", self.gender)\n",
    "        print(\"No HP         :\", self.noHp)\n",
    "    \n",
    "class Dosen :\n",
    "    def __init__(self, nip, nama, jabatan, gender, noHp) :\n",
    "        self.nip = nip\n",
    "        self.nama = nama\n",
    "        self.jabatan = jabatan\n",
    "        self.gender = gender\n",
    "        self.noHp = noHp\n",
    "\n",
    "    def cetak(self) :\n",
    "        print(\"NIP           :\", self.nip)\n",
    "        print(\"Nama          :\", self.nama)\n",
    "        print(\"Jabatan       :\", self.jabatan)\n",
    "        print(\"Jenis Kelamin :\", self.gender)\n",
    "        print(\"No HP         :\", self.noHp)\n",
    "\n",
    "absensi = []\n",
    "\n",
    "absensi.append(Mahasiswa(\"0347\", \"Cindy\", \"IF\", \"Female\", \"1234\"))\n",
    "absensi.append(Mahasiswa(\"1390\", \"Sintiya\", \"MN\", \"Female\", \"0852\"))\n",
    "\n",
    "absensi.append(Dosen(\"2013\", \"Albert\", \"Dosen Tetap\", \"Male\", \"0853\"))\n",
    "absensi.append(Dosen(\"8930\", \"Laila\", \"Dosen Kaprodi\", \"Female\", \"0812\"))\n",
    "\n",
    "for data in absensi :\n",
    "    data.cetak()\n",
    "    print()\n",
    "print(\"Total pengunjung :\", len(absensi), \"orang\")"
   ]
  }
 ],
 "metadata": {
  "kernelspec": {
   "display_name": "Python 3.8.8 ('base')",
   "language": "python",
   "name": "python3"
  },
  "language_info": {
   "codemirror_mode": {
    "name": "ipython",
    "version": 3
   },
   "file_extension": ".py",
   "mimetype": "text/x-python",
   "name": "python",
   "nbconvert_exporter": "python",
   "pygments_lexer": "ipython3",
   "version": "3.8.8"
  },
  "orig_nbformat": 4,
  "vscode": {
   "interpreter": {
    "hash": "dc07d24e2f18896857f0b2a651fe84ba40ce7b297e58d8804a308c8039f752a6"
   }
  }
 },
 "nbformat": 4,
 "nbformat_minor": 2
}
