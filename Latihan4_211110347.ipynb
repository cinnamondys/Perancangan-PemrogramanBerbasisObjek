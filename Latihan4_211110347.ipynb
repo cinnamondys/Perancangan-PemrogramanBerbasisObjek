{
 "cells": [
  {
   "cell_type": "code",
   "execution_count": null,
   "metadata": {},
   "outputs": [],
   "source": [
    "# Intro"
   ]
  },
  {
   "cell_type": "code",
   "execution_count": 1,
   "metadata": {},
   "outputs": [
    {
     "name": "stdout",
     "output_type": "stream",
     "text": [
      "Perkenalkan nama saya Takemitchy dari Tokyo\n"
     ]
    }
   ],
   "source": [
    "class Masyarakat :\n",
    "    def __init__(self, nama, asal) :\n",
    "        self.nama = nama\n",
    "        self. asal = asal\n",
    "\n",
    "    def perkenalan(self) :\n",
    "        print(f\"Perkenalkan nama saya {self.nama} dari {self.asal}\")\n",
    "\n",
    "Takemitchy = Masyarakat(\"Takemitchy\", \"Tokyo\")\n",
    "Takemitchy.perkenalan()"
   ]
  },
  {
   "cell_type": "code",
   "execution_count": 16,
   "metadata": {},
   "outputs": [
    {
     "name": "stdout",
     "output_type": "stream",
     "text": [
      "Perkenalkan nama saya Draken dari Tokyo Manju\n"
     ]
    }
   ],
   "source": [
    "class PemadamKebakaran(Masyarakat) :\n",
    "    def __init__(self, nama, asal) :\n",
    "        super().__init__(nama, asal)\n",
    "\n",
    "Draken = PemadamKebakaran(\"Draken\", \"Tokyo Manju\")\n",
    "Draken.perkenalan()"
   ]
  },
  {
   "cell_type": "code",
   "execution_count": 13,
   "metadata": {},
   "outputs": [
    {
     "name": "stdout",
     "output_type": "stream",
     "text": [
      "Perkenalkan nama saya Mikey dari Tokyo Manju\n"
     ]
    }
   ],
   "source": [
    "class Polisi(Masyarakat) :\n",
    "    pass\n",
    "\n",
    "Mikey = Polisi(\"Mikey\", \"Tokyo Manju\")\n",
    "Mikey.perkenalan()"
   ]
  },
  {
   "cell_type": "code",
   "execution_count": null,
   "metadata": {},
   "outputs": [],
   "source": [
    "# Forum Diskusi 1"
   ]
  },
  {
   "cell_type": "code",
   "execution_count": 89,
   "metadata": {},
   "outputs": [
    {
     "name": "stdout",
     "output_type": "stream",
     "text": [
      "Base Created\n",
      "Base Created\n",
      "Base Created\n",
      "Help on ChildA in module __main__ object:\n",
      "\n",
      "class ChildA(Base)\n",
      " |  Method resolution order:\n",
      " |      ChildA\n",
      " |      Base\n",
      " |      builtins.object\n",
      " |  \n",
      " |  Methods defined here:\n",
      " |  \n",
      " |  __init__(self)\n",
      " |      Initialize self.  See help(type(self)) for accurate signature.\n",
      " |  \n",
      " |  ----------------------------------------------------------------------\n",
      " |  Data descriptors inherited from Base:\n",
      " |  \n",
      " |  __dict__\n",
      " |      dictionary for instance variables (if defined)\n",
      " |  \n",
      " |  __weakref__\n",
      " |      list of weak references to the object (if defined)\n",
      "\n",
      "None\n",
      "Base Created\n",
      "Help on ChildB in module __main__ object:\n",
      "\n",
      "class ChildB(Base)\n",
      " |  Method resolution order:\n",
      " |      ChildB\n",
      " |      Base\n",
      " |      builtins.object\n",
      " |  \n",
      " |  Methods defined here:\n",
      " |  \n",
      " |  __init__(self)\n",
      " |      Initialize self.  See help(type(self)) for accurate signature.\n",
      " |  \n",
      " |  ----------------------------------------------------------------------\n",
      " |  Data descriptors inherited from Base:\n",
      " |  \n",
      " |  __dict__\n",
      " |      dictionary for instance variables (if defined)\n",
      " |  \n",
      " |  __weakref__\n",
      " |      list of weak references to the object (if defined)\n",
      "\n",
      "None\n",
      "Base Created\n",
      "Help on Base in module __main__ object:\n",
      "\n",
      "class Base(builtins.object)\n",
      " |  Methods defined here:\n",
      " |  \n",
      " |  __init__(self)\n",
      " |      Initialize self.  See help(type(self)) for accurate signature.\n",
      " |  \n",
      " |  ----------------------------------------------------------------------\n",
      " |  Data descriptors defined here:\n",
      " |  \n",
      " |  __dict__\n",
      " |      dictionary for instance variables (if defined)\n",
      " |  \n",
      " |  __weakref__\n",
      " |      list of weak references to the object (if defined)\n",
      "\n",
      "None\n"
     ]
    }
   ],
   "source": [
    "class Base(object) :\n",
    "    def __init__(self) :\n",
    "        print(\"Base Created\")\n",
    "        \n",
    "class ChildA(Base) :\n",
    "    def __init__(self) :\n",
    "        Base.__init__(self)\n",
    "        \n",
    "class ChildB(Base) :\n",
    "    def __init__(self) :\n",
    "        super(ChildB, self).__init__()\n",
    "\n",
    "ChildA()\n",
    "ChildB()\n",
    "print(help(ChildA()))\n",
    "print(help(ChildB()))\n",
    "print(help(Base()))\n"
   ]
  },
  {
   "cell_type": "code",
   "execution_count": 136,
   "metadata": {},
   "outputs": [
    {
     "name": "stdout",
     "output_type": "stream",
     "text": [
      "Base Created\n",
      "Base Created\n",
      "Base Created\n",
      "Base Created\n",
      "(<class '__main__.ChildA'>, <class '__main__.Base'>, <class 'object'>)\n",
      "(<class '__main__.ChildB'>, <class '__main__.Base'>, <class 'object'>)\n",
      "(<class '__main__.ChildC'>, <class '__main__.ChildA'>, <class '__main__.ChildB'>, <class '__main__.Base'>, <class 'object'>)\n",
      "Help on class ChildA in module __main__:\n",
      "\n",
      "class ChildA(Base)\n",
      " |  Method resolution order:\n",
      " |      ChildA\n",
      " |      Base\n",
      " |      builtins.object\n",
      " |  \n",
      " |  Methods defined here:\n",
      " |  \n",
      " |  __init__(self)\n",
      " |      Initialize self.  See help(type(self)) for accurate signature.\n",
      " |  \n",
      " |  ----------------------------------------------------------------------\n",
      " |  Data descriptors inherited from Base:\n",
      " |  \n",
      " |  __dict__\n",
      " |      dictionary for instance variables (if defined)\n",
      " |  \n",
      " |  __weakref__\n",
      " |      list of weak references to the object (if defined)\n",
      "\n",
      "None\n",
      "Help on class ChildB in module __main__:\n",
      "\n",
      "class ChildB(Base)\n",
      " |  Method resolution order:\n",
      " |      ChildB\n",
      " |      Base\n",
      " |      builtins.object\n",
      " |  \n",
      " |  Methods defined here:\n",
      " |  \n",
      " |  __init__(self)\n",
      " |      Initialize self.  See help(type(self)) for accurate signature.\n",
      " |  \n",
      " |  ----------------------------------------------------------------------\n",
      " |  Data descriptors inherited from Base:\n",
      " |  \n",
      " |  __dict__\n",
      " |      dictionary for instance variables (if defined)\n",
      " |  \n",
      " |  __weakref__\n",
      " |      list of weak references to the object (if defined)\n",
      "\n",
      "None\n",
      "Help on class ChildC in module __main__:\n",
      "\n",
      "class ChildC(ChildA, ChildB)\n",
      " |  Method resolution order:\n",
      " |      ChildC\n",
      " |      ChildA\n",
      " |      ChildB\n",
      " |      Base\n",
      " |      builtins.object\n",
      " |  \n",
      " |  Methods defined here:\n",
      " |  \n",
      " |  __init__(self)\n",
      " |      Initialize self.  See help(type(self)) for accurate signature.\n",
      " |  \n",
      " |  ----------------------------------------------------------------------\n",
      " |  Data descriptors inherited from Base:\n",
      " |  \n",
      " |  __dict__\n",
      " |      dictionary for instance variables (if defined)\n",
      " |  \n",
      " |  __weakref__\n",
      " |      list of weak references to the object (if defined)\n",
      "\n",
      "None\n",
      "Help on class Base in module __main__:\n",
      "\n",
      "class Base(builtins.object)\n",
      " |  Methods defined here:\n",
      " |  \n",
      " |  __init__(self)\n",
      " |      Initialize self.  See help(type(self)) for accurate signature.\n",
      " |  \n",
      " |  ----------------------------------------------------------------------\n",
      " |  Data descriptors defined here:\n",
      " |  \n",
      " |  __dict__\n",
      " |      dictionary for instance variables (if defined)\n",
      " |  \n",
      " |  __weakref__\n",
      " |      list of weak references to the object (if defined)\n",
      "\n",
      "None\n"
     ]
    }
   ],
   "source": [
    "class Base(object) :\n",
    "    def __init__(self) :\n",
    "        print(\"Base Created\")\n",
    "\n",
    "class Mix(object) :\n",
    "    def __init__(self) :\n",
    "        print(\"Base Created\") \n",
    "\n",
    "class ChildA(Base) :\n",
    "    def __init__(self) :\n",
    "        print(\"Base Created\") \n",
    "        Base.__init__(self)\n",
    "        \n",
    "class ChildB(Base) :\n",
    "    def __init__(self) :\n",
    "        print(\"Base Created\") \n",
    "        Base.__init__(self)\n",
    "        # super(ChildB, self).__init__()\n",
    "\n",
    "class ChildC(ChildA, ChildB) :\n",
    "    def __init__(self) :\n",
    "        Base.__init__(self)\n",
    "\n",
    "\n",
    "# print(help(ChildA))\n",
    "# print(help(ChildB))\n",
    "# print(help(Base))\n",
    "a = ChildA()\n",
    "b = ChildB()\n",
    "\n",
    "print(ChildA.__mro__)\n",
    "print(ChildB.__mro__)\n",
    "print(ChildC.__mro__)\n",
    "\n",
    "print(help(ChildA))\n",
    "print(help(ChildB))\n",
    "print(help(ChildC))\n",
    "print(help(Base))"
   ]
  },
  {
   "cell_type": "code",
   "execution_count": null,
   "metadata": {},
   "outputs": [],
   "source": [
    "# Forum Diskusi 2"
   ]
  },
  {
   "cell_type": "code",
   "execution_count": 19,
   "metadata": {},
   "outputs": [
    {
     "name": "stdout",
     "output_type": "stream",
     "text": [
      "8\n"
     ]
    }
   ],
   "source": [
    "class Num:\n",
    "    def __init__(self,num):\n",
    "        self.n1 = num\n",
    "        \n",
    "class Num2(Num):\n",
    "    def show(self):\n",
    "        print(self.n1)\n",
    "\n",
    "mynumber = Num2(8)\n",
    "mynumber.show()"
   ]
  },
  {
   "cell_type": "code",
   "execution_count": 21,
   "metadata": {},
   "outputs": [
    {
     "ename": "AttributeError",
     "evalue": "'Num2' object has no attribute 'n1'",
     "output_type": "error",
     "traceback": [
      "\u001b[1;31m---------------------------------------------------------------------------\u001b[0m",
      "\u001b[1;31mAttributeError\u001b[0m                            Traceback (most recent call last)",
      "\u001b[1;32m<ipython-input-21-e5db43128fa1>\u001b[0m in \u001b[0;36m<module>\u001b[1;34m\u001b[0m\n\u001b[0;32m     10\u001b[0m \u001b[1;33m\u001b[0m\u001b[0m\n\u001b[0;32m     11\u001b[0m \u001b[0mmynumber\u001b[0m \u001b[1;33m=\u001b[0m \u001b[0mNum2\u001b[0m\u001b[1;33m(\u001b[0m\u001b[1;36m8\u001b[0m\u001b[1;33m)\u001b[0m\u001b[1;33m\u001b[0m\u001b[1;33m\u001b[0m\u001b[0m\n\u001b[1;32m---> 12\u001b[1;33m \u001b[0mmynumber\u001b[0m\u001b[1;33m.\u001b[0m\u001b[0mshow\u001b[0m\u001b[1;33m(\u001b[0m\u001b[1;33m)\u001b[0m\u001b[1;33m\u001b[0m\u001b[1;33m\u001b[0m\u001b[0m\n\u001b[0m",
      "\u001b[1;32m<ipython-input-21-e5db43128fa1>\u001b[0m in \u001b[0;36mshow\u001b[1;34m(self)\u001b[0m\n\u001b[0;32m      7\u001b[0m         \u001b[0mself\u001b[0m\u001b[1;33m.\u001b[0m\u001b[0mn2\u001b[0m \u001b[1;33m=\u001b[0m \u001b[0mnum\u001b[0m\u001b[1;33m*\u001b[0m\u001b[1;36m2\u001b[0m\u001b[1;33m\u001b[0m\u001b[1;33m\u001b[0m\u001b[0m\n\u001b[0;32m      8\u001b[0m     \u001b[1;32mdef\u001b[0m \u001b[0mshow\u001b[0m\u001b[1;33m(\u001b[0m\u001b[0mself\u001b[0m\u001b[1;33m)\u001b[0m\u001b[1;33m:\u001b[0m\u001b[1;33m\u001b[0m\u001b[1;33m\u001b[0m\u001b[0m\n\u001b[1;32m----> 9\u001b[1;33m         \u001b[0mprint\u001b[0m\u001b[1;33m(\u001b[0m\u001b[0mself\u001b[0m\u001b[1;33m.\u001b[0m\u001b[0mn1\u001b[0m\u001b[1;33m,\u001b[0m\u001b[0mself\u001b[0m\u001b[1;33m.\u001b[0m\u001b[0mn2\u001b[0m\u001b[1;33m)\u001b[0m\u001b[1;33m\u001b[0m\u001b[1;33m\u001b[0m\u001b[0m\n\u001b[0m\u001b[0;32m     10\u001b[0m \u001b[1;33m\u001b[0m\u001b[0m\n\u001b[0;32m     11\u001b[0m \u001b[0mmynumber\u001b[0m \u001b[1;33m=\u001b[0m \u001b[0mNum2\u001b[0m\u001b[1;33m(\u001b[0m\u001b[1;36m8\u001b[0m\u001b[1;33m)\u001b[0m\u001b[1;33m\u001b[0m\u001b[1;33m\u001b[0m\u001b[0m\n",
      "\u001b[1;31mAttributeError\u001b[0m: 'Num2' object has no attribute 'n1'"
     ]
    }
   ],
   "source": [
    "class Num:\n",
    "    def __init__(self,num):\n",
    "        self.n1 = num\n",
    "\n",
    "class Num2(Num):\n",
    "    def __init__(self,num):\n",
    "        self.n2 = num*2\n",
    "    def show(self):\n",
    "        print(self.n1, self.n2)\n",
    "    \n",
    "mynumber = Num2(8)\n",
    "mynumber.show()"
   ]
  },
  {
   "cell_type": "code",
   "execution_count": 73,
   "metadata": {},
   "outputs": [
    {
     "name": "stdout",
     "output_type": "stream",
     "text": [
      "8 16\n"
     ]
    }
   ],
   "source": [
    "class Num:\n",
    "    def __init__(self, num):\n",
    "        self.n1 = num\n",
    "\n",
    "class Num2(Num):\n",
    "    def __init__(self, num):\n",
    "        super().__init__(num)\n",
    "        self.n2 = num*2\n",
    "    def show(self):\n",
    "        print(self.n1, self.n2)\n",
    "    \n",
    "mynumber = Num2(8)\n",
    "mynumber.show()"
   ]
  },
  {
   "cell_type": "code",
   "execution_count": 50,
   "metadata": {},
   "outputs": [
    {
     "name": "stdout",
     "output_type": "stream",
     "text": [
      "8 16\n"
     ]
    }
   ],
   "source": [
    "class Num:\n",
    "    def __init__(self, number):\n",
    "        self.n1 = number\n",
    "\n",
    "class Num2(Num):\n",
    "    def __init__(self, num):\n",
    "        super(Num2, self).__init__(num)\n",
    "        self.n2 = num*2\n",
    "    def show(self):\n",
    "        print(self.n1, self.n2)\n",
    "    \n",
    "mynumber = Num2(8)\n",
    "mynumber.show()"
   ]
  },
  {
   "cell_type": "code",
   "execution_count": null,
   "metadata": {},
   "outputs": [],
   "source": [
    "# Praktek"
   ]
  },
  {
   "cell_type": "code",
   "execution_count": 14,
   "metadata": {},
   "outputs": [
    {
     "name": "stdout",
     "output_type": "stream",
     "text": [
      "<__main__.SegiEmpat object at 0x0000026777733D00>\n",
      "3\n",
      "Keliling = 6\n",
      "Luas     = 4761 juta cahaya\n"
     ]
    }
   ],
   "source": [
    "# Mendeklarasikan Super Class\n",
    "class SegiEmpat :\n",
    "    # Property & Value\n",
    "    sisi1 = 0\n",
    "    sisi2 = 1\n",
    "    sisi3 = 2\n",
    "    sisi4 = 3\n",
    "    #Function\n",
    "    def keliling(self) :\n",
    "        return self.sisi1 + self.sisi2 + self.sisi3 + self.sisi4\n",
    "\n",
    "# Mendeklarasikan Subclass\n",
    "class Persegi(SegiEmpat) :\n",
    "    # Menambahkan function\n",
    "    def luas(self, s) :\n",
    "        return s*s\n",
    "\n",
    "# Membuat object (memasukkan kelas dalam variabel)\n",
    "a = SegiEmpat()\n",
    "b = Persegi()\n",
    "\n",
    "# Pengecekkan registrasi kelas dalam alamat memori\n",
    "print(a)  # mengecek apakah sudah terdaftar dalam memori\n",
    "\n",
    "# Memanggil value dari Superclass a menggunakan Subclass b\n",
    "print(b.sisi4)\n",
    "\n",
    "# Memanggil function dari Superclass a menggunakan Subclass b\n",
    "print(f\"Keliling = {b.keliling()}\")\n",
    "\n",
    "# Memanggil function dari Subclass b\n",
    "print(f\"Luas     = {b.luas(69)} juta cahaya\")\n",
    "# print(f\"Luas     = {a.luas(69)} juta cahaya\")   # tidak bisa mengimplementasikan sifat turunan kepada induk"
   ]
  },
  {
   "cell_type": "code",
   "execution_count": null,
   "metadata": {},
   "outputs": [],
   "source": [
    "# Case Study"
   ]
  },
  {
   "cell_type": "code",
   "execution_count": 17,
   "metadata": {},
   "outputs": [
    {
     "name": "stdout",
     "output_type": "stream",
     "text": [
      "Perpustakaan Medan\n",
      "Nama Suku = Batak Toba\n",
      "Jenis Peralatan = Meja Jahit\n",
      "\n",
      "Perpustakaan Jawa\n",
      "Nama Asal = Jawa Barat\n",
      "Jumlah Cangkringan = 10 buah\n"
     ]
    }
   ],
   "source": [
    "class perpus:\n",
    "    def __init__(self, namaDaerah):\n",
    "        self.namaDaerah = namaDaerah\n",
    "\n",
    "class Medan(perpus):\n",
    "    def __init__(self, namaDaerah, namaSuku, jenisPeralatan):\n",
    "        super().__init__(namaDaerah)\n",
    "        self.namaSuku = namaSuku\n",
    "        self.jenisPeralatan = jenisPeralatan\n",
    "    def mengulos(self):\n",
    "        print(f\"Perpustakaan {self.namaDaerah}\")\n",
    "        print(f\"Nama Suku = {self.namaSuku}\")\n",
    "        print(f\"Jenis Peralatan = {self.jenisPeralatan}\")\n",
    "\n",
    "class Jawa(perpus):\n",
    "    def __init__(self, namaDaerah, namaAsal, jumlahCangkringan):\n",
    "        super().__init__(namaDaerah)\n",
    "        self.namaAsal = namaAsal\n",
    "        self.jumlahCangkringan = jumlahCangkringan\n",
    "    def membatik(self):\n",
    "        print(f\"Perpustakaan {self.namaDaerah}\")\n",
    "        print(f\"Nama Asal = {self.namaAsal}\")\n",
    "        print(f\"Jumlah Cangkringan = {self.jumlahCangkringan} buah\")\n",
    "\n",
    "mdn = Medan(\"Medan\", \"Batak Toba\", \"Meja Jahit\")\n",
    "mdn.mengulos()\n",
    "\n",
    "print()\n",
    "\n",
    "jawa = Jawa(\"Jawa\", \"Jawa Barat\", 10)\n",
    "jawa.membatik()"
   ]
  },
  {
   "cell_type": "code",
   "execution_count": null,
   "metadata": {},
   "outputs": [],
   "source": [
    "# Latihan"
   ]
  },
  {
   "cell_type": "code",
   "execution_count": 164,
   "metadata": {},
   "outputs": [
    {
     "name": "stdout",
     "output_type": "stream",
     "text": [
      "---- Absensi Mahasiswa ------\n",
      "No Induk : 0347\n",
      "Nama     : Cindy\n",
      "\n",
      "---- Absensi Mahasiswa ------\n",
      "No Induk : 4370\n",
      "Nama     : Sintiya\n",
      "\n",
      "---- Perkenalan Dosen -------\n",
      "Nama  : Albert Prima\n",
      "No Hp : 0853\n",
      "\n",
      "---- Perkenalan Dosen -------\n",
      "Nama  : Laila\n",
      "No Hp : 0812\n",
      "\n"
     ]
    }
   ],
   "source": [
    "# Task 1 \n",
    "\n",
    "class CindySintiya :\n",
    "    def __init__(self, noInduk, nama, gender, noHp) :\n",
    "        self.noInduk = noInduk\n",
    "        self.nama = nama\n",
    "        self.gender = gender\n",
    "        self.noHp = noHp\n",
    "    def cetak(self) :\n",
    "        print(\"No Induk      :\", self.noInduk)\n",
    "        print(\"Nama          :\", self.nama)\n",
    "        print(\"Jenis Kelamin :\", self.gender)\n",
    "        print(\"No HP         :\", self.noHp)\n",
    "\n",
    "class Mahasiswa(CindySintiya) :\n",
    "    def __init__(self, nim, nama, prodi, gender, noHp) :\n",
    "        super(Mahasiswa, self).__init__(nim, nama, gender, noHp)\n",
    "        self.prodi = prodi\n",
    "    def absensi(self) :\n",
    "        print(\"---- Absensi Mahasiswa ------\")\n",
    "        print(\"No Induk :\", self.noInduk)\n",
    "        print(\"Nama     :\", self.nama)\n",
    "        print()\n",
    "    \n",
    "class Dosen(CindySintiya) :\n",
    "    def __init__(self, nip, nama, jabatan, gender, noHp) :\n",
    "        super(Dosen, self).__init__(nip, nama, gender, noHp)\n",
    "        self.jabatan = jabatan\n",
    "    def perkenalan(self) :\n",
    "        print(\"---- Perkenalan Dosen -------\")\n",
    "        print(\"Nama  :\", self.nama)\n",
    "        print(\"No Hp :\", self.noHp)\n",
    "        print()\n",
    "\n",
    "mhs1 = Mahasiswa(\"0347\", \"Cindy\", \"IF\", \"Female\", \"1234\")\n",
    "mhs2 = Mahasiswa(\"4370\", \"Sintiya\", \"MN\", \"Female\", \"0852\")\n",
    "mhs1.absensi()\n",
    "mhs2.absensi()\n",
    "\n",
    "dsn1 = Dosen(\"8013\", \"Albert Prima\", \"Dosen Tetap\", \"Male\", \"0853\")\n",
    "dsn2 = Dosen(\"4902\", \"Laila\", \"Dosen Kaprodi\", \"Female\", \"0812\")\n",
    "dsn1.perkenalan()\n",
    "dsn2.perkenalan()"
   ]
  },
  {
   "cell_type": "code",
   "execution_count": null,
   "metadata": {},
   "outputs": [],
   "source": [
    "# Percobaan : https://stackoverflow.com/questions/21639788/difference-between-super-and-calling-superclass-directly"
   ]
  },
  {
   "cell_type": "code",
   "execution_count": 156,
   "metadata": {},
   "outputs": [
    {
     "name": "stdout",
     "output_type": "stream",
     "text": [
      "Base\n",
      "ChildA\n",
      "Base\n",
      "ChildB\n",
      "ChildC\n"
     ]
    },
    {
     "data": {
      "text/plain": [
       "<__main__.ChildC at 0x26776856e20>"
      ]
     },
     "execution_count": 156,
     "metadata": {},
     "output_type": "execute_result"
    }
   ],
   "source": [
    "class Base(object):\n",
    "    def __init__ (self):\n",
    "        print('Base')\n",
    "\n",
    "class ChildA(Base):\n",
    "    def __init__(self):\n",
    "        Base.__init__(self)\n",
    "        print('ChildA')\n",
    "\n",
    "class ChildB(Base):\n",
    "    def __init__(self):\n",
    "        Base.__init__(self)\n",
    "        print('ChildB')\n",
    "\n",
    "class ChildC(ChildB, ChildA):\n",
    "    def __init__(self):\n",
    "        ChildA.__init__(self)\n",
    "        ChildB.__init__(self)\n",
    "        print('ChildC')\n",
    "\n",
    "ChildC()"
   ]
  },
  {
   "cell_type": "code",
   "execution_count": 152,
   "metadata": {},
   "outputs": [
    {
     "name": "stdout",
     "output_type": "stream",
     "text": [
      "Base\n",
      "ChildA-super\n",
      "ChildB-super\n",
      "ChildC-super\n"
     ]
    },
    {
     "data": {
      "text/plain": [
       "<__main__.ChildCsuper at 0x267779ba460>"
      ]
     },
     "execution_count": 152,
     "metadata": {},
     "output_type": "execute_result"
    }
   ],
   "source": [
    "class Base(object):\n",
    "    def __init__(self):\n",
    "        print('Base')\n",
    "\n",
    "class ChildAsuper(Base):\n",
    "    def __init__(self):\n",
    "        super().__init__()\n",
    "        print('ChildA-super')\n",
    "\n",
    "class ChildBsuper(Base):\n",
    "    def __init__(self):\n",
    "        super().__init__()\n",
    "        print('ChildB-super')\n",
    "\n",
    "class ChildCsuper(ChildBsuper, ChildAsuper):\n",
    "    def __init__(self):\n",
    "        super().__init__()\n",
    "        print('ChildC-super')\n",
    "\n",
    "ChildCsuper()"
   ]
  }
 ],
 "metadata": {
  "kernelspec": {
   "display_name": "Python 3.8.8 ('base')",
   "language": "python",
   "name": "python3"
  },
  "language_info": {
   "codemirror_mode": {
    "name": "ipython",
    "version": 3
   },
   "file_extension": ".py",
   "mimetype": "text/x-python",
   "name": "python",
   "nbconvert_exporter": "python",
   "pygments_lexer": "ipython3",
   "version": "3.8.8 (default, Apr 13 2021, 15:08:03) [MSC v.1916 64 bit (AMD64)]"
  },
  "orig_nbformat": 4,
  "vscode": {
   "interpreter": {
    "hash": "dc07d24e2f18896857f0b2a651fe84ba40ce7b297e58d8804a308c8039f752a6"
   }
  }
 },
 "nbformat": 4,
 "nbformat_minor": 2
}
