{
 "cells": [
  {
   "cell_type": "code",
   "execution_count": null,
   "metadata": {},
   "outputs": [],
   "source": [
    "# Polymorphism"
   ]
  },
  {
   "cell_type": "code",
   "execution_count": 2,
   "metadata": {},
   "outputs": [
    {
     "name": "stdout",
     "output_type": "stream",
     "text": [
      "Panggil saya Kakek  ya!\n",
      "Panggil saya Ayah donk!\n",
      "Tante saya bernama Donita\n"
     ]
    }
   ],
   "source": [
    "class kakek :\n",
    "    def panggil(self) :\n",
    "        print(\"Panggil saya Kakek  ya!\")\n",
    "\n",
    "class ayah(kakek) :\n",
    "    def panggil(self) :\n",
    "        print(\"Panggil saya Ayah donk!\")\n",
    "\n",
    "class paman(kakek) :\n",
    "    def panggil(self, namaIstri) :\n",
    "        print(\"Tante saya bernama\", namaIstri)\n",
    "\n",
    "kek = kakek()\n",
    "yah = ayah()\n",
    "man = paman()\n",
    "\n",
    "kek.panggil()\n",
    "yah.panggil()\n",
    "# man.panggil()   #TypeError: panggil() missing 1 required positional argument: 'namaIstri'\n",
    "man.panggil(\"Donita\")"
   ]
  },
  {
   "cell_type": "code",
   "execution_count": 6,
   "metadata": {},
   "outputs": [
    {
     "name": "stdout",
     "output_type": "stream",
     "text": [
      "0\n",
      "1\n",
      "200\n",
      "40\n",
      "200\n",
      "60\n"
     ]
    }
   ],
   "source": [
    "class segiEmpat :\n",
    "    def __init__(self, sisi1, sisi2, sisi3, sisi4) :\n",
    "        self.sisi1 = sisi1\n",
    "        self.sisi2 = sisi2\n",
    "        self.sisi3 = sisi3\n",
    "        self.sisi4 = sisi4\n",
    "    def luas(self) :\n",
    "        return 0\n",
    "    def keliling(self) :\n",
    "        return 1\n",
    "\n",
    "class persegi(segiEmpat) :\n",
    "    def luas(self) :\n",
    "        return self.sisi1 * self.sisi2\n",
    "    def keliling(self):\n",
    "        return 4 * self.sisi1\n",
    "\n",
    "class persegiPanjang(segiEmpat) :\n",
    "    def luas(self):\n",
    "        return self.sisi1 * self.sisi2\n",
    "    def keliling(self):\n",
    "        return 2 * (self.sisi1 + self.sisi2)\n",
    "\n",
    "a = segiEmpat(10, 20, 30, 40)\n",
    "b = persegi(10, 20, 30, 40)\n",
    "c = persegiPanjang(10, 20, 30, 40)\n",
    "\n",
    "print(a.luas())\n",
    "print(a.keliling())\n",
    "print(b.luas())\n",
    "print(b.keliling())\n",
    "print(c.luas())\n",
    "print(c.keliling())"
   ]
  },
  {
   "cell_type": "code",
   "execution_count": 16,
   "metadata": {},
   "outputs": [
    {
     "name": "stdout",
     "output_type": "stream",
     "text": [
      "Persegi ============\n",
      "100\n",
      "40\n",
      "10 10\n",
      "0 0\n",
      "Persegi Panjang ====\n",
      "200\n",
      "60\n",
      "10 20\n",
      "0 0\n"
     ]
    }
   ],
   "source": [
    "from abc import ABC, abstractmethod, abstractproperty\n",
    "\n",
    "class syaratSegiEmpat(ABC) :\n",
    "    # syarat property\n",
    "    @abstractproperty\n",
    "    def sisi1(self) :\n",
    "        pass\n",
    "    @abstractproperty\n",
    "    def sisi2(self) :\n",
    "        pass\n",
    "    # syarat fungsi\n",
    "    @abstractmethod\n",
    "    def luas(self) :\n",
    "        pass\n",
    "    @abstractmethod\n",
    "    def keliling(self) :\n",
    "        pass\n",
    "\n",
    "class segiEmpat :\n",
    "    def __init__(self, sisi1, sisi2) :\n",
    "        self.sisi1 = sisi1\n",
    "        self.sisi2 = sisi2\n",
    "\n",
    "class persegi(segiEmpat, syaratSegiEmpat) :\n",
    "    sisi1, sisi2 = 0, 0\n",
    "    def luas(self) :\n",
    "        return self.sisi1 * self.sisi2\n",
    "    def keliling(self):\n",
    "        return 4 * (self.sisi1)\n",
    "\n",
    "class persegiPanjang(segiEmpat) :\n",
    "    sisi1, sisi2 = 0, 0\n",
    "    def luas(self):\n",
    "        return self.sisi1 * self.sisi2\n",
    "    def keliling(self):\n",
    "        return 2 * (self.sisi1 + self.sisi2)\n",
    "\n",
    "a = persegi(10, 10)\n",
    "b = persegiPanjang(10, 20)\n",
    "\n",
    "print(\"Persegi ============\")\n",
    "print(a.luas())\n",
    "print(a.keliling())\n",
    "print(a.sisi1, a.sisi2)\n",
    "print(persegi.sisi1, persegi.sisi2)\n",
    "print(\"Persegi Panjang ====\")\n",
    "print(b.luas())\n",
    "print(b.keliling())\n",
    "print(b.sisi1, b.sisi2)\n",
    "print(persegiPanjang.sisi1, persegiPanjang.sisi2)"
   ]
  },
  {
   "cell_type": "code",
   "execution_count": null,
   "metadata": {},
   "outputs": [],
   "source": [
    "# Case Study"
   ]
  },
  {
   "cell_type": "code",
   "execution_count": 18,
   "metadata": {},
   "outputs": [
    {
     "name": "stdout",
     "output_type": "stream",
     "text": [
      "Pada Perpus Jawa\n",
      "Terdapat buku berjudul Habis Gelap Terbit Terang dengan jumlah 10 buku\n",
      "Dan terdapat jenis gamelan berupa Bonang\n",
      "\n",
      "Pada Perpus Batak\n",
      "Terdapat buku berjudul Pedoman Upacara Batak dengan jumlah 5 buku\n",
      "Dan terdapat ulos yang berasal dari Batak Toba\n"
     ]
    }
   ],
   "source": [
    "import abc\n",
    "\n",
    "class syaratPerpus(metaclass=abc.ABCMeta):\n",
    "    @abc.abstractproperty\n",
    "    def namaBuku(self):\n",
    "        pass\n",
    "    @abc.abstractmethod\n",
    "    def cetakData(self):\n",
    "        pass\n",
    "\n",
    "class perpus:\n",
    "    def __init__(self, jlhBuku):\n",
    "        self.jlhBuku = jlhBuku\n",
    "\n",
    "class perpusJawa(perpus, syaratPerpus):\n",
    "    namaBuku = \"\"\n",
    "    def __init__(self, namaBuku, jlhBuku):\n",
    "        super().__init__(jlhBuku)\n",
    "        self.namaBuku = namaBuku\n",
    "    def cetakData(self, jenisGamelan):\n",
    "        print(\"Pada Perpus Jawa\")\n",
    "        print(f\"Terdapat buku berjudul {self.namaBuku} dengan jumlah {self.jlhBuku} buku\")\n",
    "        print(f\"Dan terdapat jenis gamelan berupa {jenisGamelan}\")\n",
    "\n",
    "class perpusBatak(perpus, syaratPerpus):\n",
    "    namaBuku = \"\"\n",
    "    def __init__(self, namaBuku, jlhBuku):\n",
    "        super().__init__(jlhBuku)\n",
    "        self.namaBuku = namaBuku\n",
    "    def cetakData(self, jenisUlos):\n",
    "        print(\"Pada Perpus Batak\")\n",
    "        print(f\"Terdapat buku berjudul {self.namaBuku} dengan jumlah {self.jlhBuku} buku\")\n",
    "        print(f\"Dan terdapat ulos yang berasal dari {jenisUlos}\")\n",
    "\n",
    "a = perpusJawa(\"Habis Gelap Terbit Terang\", 10)\n",
    "b = perpusBatak(\"Pedoman Upacara Batak\", 5)\n",
    "\n",
    "a.cetakData(\"Bonang\")\n",
    "print()\n",
    "b.cetakData(\"Batak Toba\")"
   ]
  },
  {
   "cell_type": "code",
   "execution_count": null,
   "metadata": {},
   "outputs": [],
   "source": [
    "# Latihan"
   ]
  },
  {
   "cell_type": "code",
   "execution_count": 21,
   "metadata": {},
   "outputs": [
    {
     "name": "stdout",
     "output_type": "stream",
     "text": [
      "Terima Kasih sudah hadir, Cindy Sintiya (211110347)\n",
      "Silahkan mulai pelajaran, Pak/ Bu Albert\n"
     ]
    }
   ],
   "source": [
    "# Task 1\n",
    "\n",
    "from abc import ABC, abstractmethod, abstractproperty\n",
    "\n",
    "class aturanMikroskil(ABC) :\n",
    "    @abstractproperty\n",
    "    def nama(self) :\n",
    "        pass\n",
    "    @abstractproperty\n",
    "    def noId(self) :\n",
    "        pass\n",
    "    @abstractmethod\n",
    "    def absensi(self) :\n",
    "        pass\n",
    "\n",
    "class civitasMikroskil :\n",
    "    def __init__(self, nama, noId):\n",
    "        self.nama = nama\n",
    "        self.noId = noId\n",
    "\n",
    "class Dosen(aturanMikroskil, civitasMikroskil) :\n",
    "    nama = \"Dosen\"\n",
    "    noId = 12345\n",
    "    def absensi(self) :\n",
    "        print(\"Silahkan mulai pelajaran, Pak/ Bu\", self.nama)\n",
    "\n",
    "class Mahasiswa(civitasMikroskil, aturanMikroskil) :\n",
    "    nama = \"Mahasiswa\"\n",
    "    noId = 21111\n",
    "    def absensi(self) :\n",
    "        print(f\"Terima Kasih sudah hadir, {self.nama} ({self.noId})\")\n",
    "\n",
    "cindy = Mahasiswa(\"Cindy Sintiya\", 211110347)\n",
    "cindy.absensi()\n",
    "\n",
    "albert = Dosen(\"Albert\", 123456789)\n",
    "albert.absensi()"
   ]
  },
  {
   "cell_type": "code",
   "execution_count": 33,
   "metadata": {},
   "outputs": [
    {
     "name": "stdout",
     "output_type": "stream",
     "text": [
      "Biaya les Andi: Rp. 500,000.00\n",
      "Biaya les Budi: Rp. 800,000.00\n",
      "Biaya les Cindy: Rp. 1,200,000.00\n"
     ]
    }
   ],
   "source": [
    "# Task 2\n",
    "\n",
    "from abc import ABC, abstractmethod, abstractproperty\n",
    "\n",
    "class syaratDaftarLes(ABC) :\n",
    "    @abstractproperty\n",
    "    def nama(self) :\n",
    "        pass\n",
    "    @abstractproperty\n",
    "    def noHp(self) :\n",
    "        pass\n",
    "    @abstractmethod\n",
    "    def cetakBiaya(self, nama, biaya) :\n",
    "        print(f\"Biaya les {nama}: {biaya}\")\n",
    "\n",
    "class lesPrivat :\n",
    "    def __init__(self, nama, noHp):\n",
    "        self.nama = nama\n",
    "        self.noHp = noHp\n",
    "\n",
    "class SD(lesPrivat, syaratDaftarLes) :\n",
    "    nama = \"tingkat SD\"\n",
    "    noHp = \"+62\"\n",
    "    def __init__(self, nama, noHp, gender):\n",
    "        super().__init__(nama, noHp)\n",
    "        self.gender = gender\n",
    "    def cetakBiaya(self, biaya=500000):\n",
    "        return super().cetakBiaya(self.nama, \"Rp. {:,.02f}\".format(biaya))  # format currency\n",
    "\n",
    "class SMP(lesPrivat, syaratDaftarLes) :\n",
    "    nama = \"tingkat SMP\"\n",
    "    noHp = \"+62\"\n",
    "    def __init__(self, nama, noHp, umur):\n",
    "        super().__init__(nama, noHp)\n",
    "        self.umur = umur\n",
    "    def cetakBiaya(self, biaya=800000):\n",
    "        return super().cetakBiaya(self.nama, \"Rp. {:,.02f}\".format(biaya))  # format currency\n",
    "\n",
    "class SMA(lesPrivat, syaratDaftarLes) :\n",
    "    nama = \"tingkat SMA\"\n",
    "    noHp = \"+62\"\n",
    "    def __init__(self, nama, noHp, jurusan):\n",
    "        super().__init__(nama, noHp)\n",
    "        self.jurusan = jurusan\n",
    "    def cetakBiaya(self, biaya=1200000):\n",
    "        return super().cetakBiaya(self.nama, \"Rp. {:,.02f}\".format(biaya))  # format currency\n",
    "\n",
    "andi = SD(\"Andi\", \"0852\", \"laki-laki\")\n",
    "budi = SMP(\"Budi\", \"0813\", 14)\n",
    "cindy = SMA(\"Cindy\", \"0853\", \"IPA\")\n",
    "\n",
    "andi.cetakBiaya()\n",
    "budi.cetakBiaya()\n",
    "cindy.cetakBiaya()"
   ]
  },
  {
   "cell_type": "code",
   "execution_count": null,
   "metadata": {},
   "outputs": [],
   "source": [
    "# Task 2"
   ]
  },
  {
   "cell_type": "code",
   "execution_count": 11,
   "metadata": {},
   "outputs": [
    {
     "name": "stdout",
     "output_type": "stream",
     "text": [
      "Jenis Barang  : Hand Sanitizer\n",
      "Merk Barang   : Antis\n",
      "Harga Barang  : Rp. 20,000.00\n",
      "Jumlah Barang : 2\n",
      "Antis masih tersisa banyak. Jangan takut!\n",
      "\n",
      "Jenis Barang  : Botol Bayi\n",
      "Merk Barang   : Dodo\n",
      "Harga Barang  : Rp. 85,000.00\n",
      "Jumlah Barang : 1\n",
      "Monogami\n"
     ]
    }
   ],
   "source": [
    "class eCommerce :\n",
    "    def __init__(self, merekBarang, hargaBarang, jlhBarang ) :\n",
    "        self.merek = merekBarang\n",
    "        self.harga = hargaBarang\n",
    "        self.jlh = jlhBarang\n",
    "\n",
    "    def cekStok(self) :\n",
    "        if self.jlh > 1 :\n",
    "            print(self.merek, \"masih tersisa banyak. Jangan takut!\")\n",
    "        elif self.jlh <= 1 :\n",
    "            print(\"Monogami\")\n",
    "    \n",
    "    def cetakBarang(self) :\n",
    "        print(\"Merk Barang   :\", self.merek)\n",
    "        # print(\"Jenis Barang  :\", self.jenisBarang)\n",
    "        print(\"Harga Barang  : Rp. {:,.02f}\".format(self.harga))\n",
    "        print(\"Jumlah Barang :\", self.jlh)\n",
    "\n",
    "class HandSanitizer(eCommerce) :\n",
    "    def cetakBarang(self):\n",
    "        print(\"Jenis Barang  : Hand Sanitizer\")\n",
    "        return super().cetakBarang()\n",
    "\n",
    "class BanMobil(eCommerce) :\n",
    "    def cetakBarang(self):\n",
    "        print(\"Jenis Barang  : Ban Mobil\")\n",
    "        return super().cetakBarang()\n",
    "\n",
    "class BotolBayi(eCommerce) :\n",
    "    def cetakBarang(self):\n",
    "        print(\"Jenis Barang  : Botol Bayi\")\n",
    "        return super().cetakBarang()\n",
    "\n",
    "antis = HandSanitizer(\"Antis\", 20000, 2)\n",
    "antis.cetakBarang()\n",
    "antis.cekStok()\n",
    "print()\n",
    "\n",
    "dodo = BotolBayi(\"Dodo\", 85000, 1)\n",
    "dodo.cetakBarang()\n",
    "dodo.cekStok()"
   ]
  },
  {
   "cell_type": "code",
   "execution_count": 8,
   "metadata": {},
   "outputs": [
    {
     "name": "stdout",
     "output_type": "stream",
     "text": [
      "Bunga ini berwarna Kuning\n",
      "Bunga ini berwarna Merah\n"
     ]
    }
   ],
   "source": [
    "# Polymorphism \n",
    "\n",
    "class BungaMatahari :\n",
    "    def warna(self) :\n",
    "        print(\"Bunga ini berwarna Kuning\")\n",
    "\n",
    "class BungaMawar :\n",
    "    def warna(self) :\n",
    "        print(\"Bunga ini berwarna Merah\")\n",
    "\n",
    "sunFlower = BungaMatahari()\n",
    "rose = BungaMawar()\n",
    "sunFlower.warna()   # method warna pada class BungaMatahari akan mencetak Kuning\n",
    "rose.warna()        # namun method warna pada class BungaMawar akan mencetak Merah\n",
    "                    # Polymorphism => method dengan nama yang sama bisa memiliki argumen/ tindakan yang berbeda"
   ]
  },
  {
   "cell_type": "code",
   "execution_count": 15,
   "metadata": {},
   "outputs": [
    {
     "name": "stdout",
     "output_type": "stream",
     "text": [
      "211110347\n"
     ]
    },
    {
     "ename": "TypeError",
     "evalue": "unsupported operand type(s) for *: 'Number' and 'Number'",
     "output_type": "error",
     "traceback": [
      "\u001b[1;31m---------------------------------------------------------------------------\u001b[0m",
      "\u001b[1;31mTypeError\u001b[0m                                 Traceback (most recent call last)",
      "\u001b[1;32m<ipython-input-15-adbfc5fbabc3>\u001b[0m in \u001b[0;36m<module>\u001b[1;34m\u001b[0m\n\u001b[0;32m     17\u001b[0m \u001b[0mobject1\u001b[0m \u001b[1;33m=\u001b[0m \u001b[0mNumber\u001b[0m\u001b[1;33m(\u001b[0m\u001b[1;36m10151\u001b[0m\u001b[1;33m)\u001b[0m\u001b[1;33m\u001b[0m\u001b[1;33m\u001b[0m\u001b[0m\n\u001b[0;32m     18\u001b[0m \u001b[0mobject2\u001b[0m \u001b[1;33m=\u001b[0m \u001b[0mNumber\u001b[0m\u001b[1;33m(\u001b[0m\u001b[1;36m20797\u001b[0m\u001b[1;33m)\u001b[0m\u001b[1;33m\u001b[0m\u001b[1;33m\u001b[0m\u001b[0m\n\u001b[1;32m---> 19\u001b[1;33m \u001b[0mprint\u001b[0m\u001b[1;33m(\u001b[0m\u001b[0mobject1\u001b[0m \u001b[1;33m*\u001b[0m \u001b[0mobject2\u001b[0m\u001b[1;33m)\u001b[0m\u001b[1;33m\u001b[0m\u001b[1;33m\u001b[0m\u001b[0m\n\u001b[0m",
      "\u001b[1;31mTypeError\u001b[0m: unsupported operand type(s) for *: 'Number' and 'Number'"
     ]
    }
   ],
   "source": [
    "# Overload\n",
    "\n",
    "class Number :\n",
    "    def __init__(self, num) :\n",
    "        self.num = num\n",
    "    def __mul__(self, change) :\n",
    "        return self.num * change.num\n",
    "\n",
    "object1 = Number(10151)\n",
    "object2 = Number(20797)\n",
    "print(object1 * object2)    # dengan overloading magic method __mul__, maka operator * diberi kemampuan/ sifat baru untuk mengalikan 2 buah object\n",
    "\n",
    "class Number :\n",
    "    def __init__(self, num) :\n",
    "        self.num = num\n",
    "        \n",
    "object1 = Number(10151)\n",
    "object2 = Number(20797)\n",
    "print(object1 * object2)    # tanpa overloading magic method __mul__, kita tidak dapat mengalikan object dengan object"
   ]
  },
  {
   "cell_type": "code",
   "execution_count": 18,
   "metadata": {},
   "outputs": [
    {
     "name": "stdout",
     "output_type": "stream",
     "text": [
      "Ini adalah method superclass\n",
      "Ini adalah method superclass\n",
      "Ini adalah method superclass\n",
      "Ini adalah method subclass yang menimpa method superclass\n"
     ]
    }
   ],
   "source": [
    "# Override\n",
    "\n",
    "class Basis :\n",
    "    def cetak(self) :\n",
    "        print(\"Ini adalah method superclass\")\n",
    "\n",
    "class Timpa1(Basis) :\n",
    "    pass\n",
    "\n",
    "class Timpa2(Basis) :\n",
    "    def cetak(self):\n",
    "        super().cetak()\n",
    "\n",
    "class Timpa3(Basis) :\n",
    "    def cetak(self):\n",
    "        print(\"Ini adalah method subclass yang menimpa method superclass\")\n",
    "\n",
    "induk = Basis()\n",
    "turunanPass = Timpa1()\n",
    "turunanSuper = Timpa2()\n",
    "turunanOverride = Timpa3()\n",
    "\n",
    "induk.cetak()             # method awal/ method induk\n",
    "turunanPass.cetak()       # method turunan yang tidak dideklarasikan ulang di classnya\n",
    "turunanSuper.cetak()      # method turunan yang mewarisi secara utuh method induknya\n",
    "turunanOverride.cetak()   # method turunan yang telah menimpa method induk"
   ]
  }
 ],
 "metadata": {
  "kernelspec": {
   "display_name": "Python 3.8.8 ('base')",
   "language": "python",
   "name": "python3"
  },
  "language_info": {
   "codemirror_mode": {
    "name": "ipython",
    "version": 3
   },
   "file_extension": ".py",
   "mimetype": "text/x-python",
   "name": "python",
   "nbconvert_exporter": "python",
   "pygments_lexer": "ipython3",
   "version": "3.8.8 (default, Apr 13 2021, 15:08:03) [MSC v.1916 64 bit (AMD64)]"
  },
  "orig_nbformat": 4,
  "vscode": {
   "interpreter": {
    "hash": "dc07d24e2f18896857f0b2a651fe84ba40ce7b297e58d8804a308c8039f752a6"
   }
  }
 },
 "nbformat": 4,
 "nbformat_minor": 2
}
