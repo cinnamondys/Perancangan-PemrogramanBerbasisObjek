{
 "cells": [
  {
   "cell_type": "code",
   "execution_count": null,
   "metadata": {},
   "outputs": [],
   "source": [
    "# Intro"
   ]
  },
  {
   "cell_type": "code",
   "execution_count": 4,
   "metadata": {},
   "outputs": [
    {
     "name": "stdout",
     "output_type": "stream",
     "text": [
      "Alas   : 100\n",
      "Tinggi : 80\n",
      "Luas   : 4000.0\n"
     ]
    }
   ],
   "source": [
    "# Encapsulation : Public\n",
    "\n",
    "class Segitiga :\n",
    "    def __init__(self, alas, tinggi) :\n",
    "        self.alas = alas\n",
    "        self.tinggi = tinggi\n",
    "        self.luas = 0.5 * alas * tinggi\n",
    "\n",
    "segitiga_besar = Segitiga(100, 80)\n",
    "\n",
    "# akses variabel/ attribut alas, tinggi, luas dari luar kelas\n",
    "print(f\"Alas   : {segitiga_besar.alas}\")\n",
    "print(f\"Tinggi : {segitiga_besar.tinggi}\")\n",
    "print(f\"Luas   : {segitiga_besar.luas}\")"
   ]
  },
  {
   "cell_type": "code",
   "execution_count": 11,
   "metadata": {},
   "outputs": [
    {
     "name": "stdout",
     "output_type": "stream",
     "text": [
      "Merk  : Toyota\n",
      "Ini mobil Ferrari dengan total gear 8\n"
     ]
    }
   ],
   "source": [
    "# Encapsulation : Protected\n",
    "\n",
    "class Mobil :\n",
    "    def __init__(self, merk) :\n",
    "        self._merk = merk\n",
    "\n",
    "sedan = Mobil(\"Toyota\")\n",
    "\n",
    "# akses variabel/ attribut alas, tinggi, luas dari luar kelas\n",
    "print(f\"Merk  : {sedan._merk}\")\n",
    "\n",
    "# Inheritance untuk Encapsulation Protected\n",
    "class MobilBalap(Mobil) :\n",
    "    def __init__(self, merk, total_gear) :\n",
    "        super().__init__(merk)\n",
    "        self._total_gear = total_gear\n",
    "\n",
    "    def pamer(self) :\n",
    "        # akses _merk dari subclass\n",
    "        print(f\"Ini mobil {self._merk} dengan total gear {self._total_gear}\")\n",
    "\n",
    "# membuat object dari kelas MobilBalap\n",
    "ferrari = MobilBalap(\"Ferrari\", 8)\n",
    "ferrari.pamer()"
   ]
  },
  {
   "cell_type": "code",
   "execution_count": 31,
   "metadata": {},
   "outputs": [
    {
     "name": "stdout",
     "output_type": "stream",
     "text": [
      "Jeep\n",
      "Merk : Jeep\n"
     ]
    },
    {
     "ename": "AttributeError",
     "evalue": "'Mobil' object has no attribute '_merk'",
     "output_type": "error",
     "traceback": [
      "\u001b[1;31m---------------------------------------------------------------------------\u001b[0m",
      "\u001b[1;31mAttributeError\u001b[0m                            Traceback (most recent call last)",
      "\u001b[1;32m<ipython-input-31-20c6bccc2142>\u001b[0m in \u001b[0;36m<module>\u001b[1;34m\u001b[0m\n\u001b[0;32m     12\u001b[0m \u001b[0mprint\u001b[0m\u001b[1;33m(\u001b[0m\u001b[0mjip\u001b[0m\u001b[1;33m.\u001b[0m\u001b[0m_Mobil__merk\u001b[0m\u001b[1;33m)\u001b[0m  \u001b[1;31m# metode/ syntax khusus untuk mengakses atribut private\u001b[0m\u001b[1;33m\u001b[0m\u001b[1;33m\u001b[0m\u001b[0m\n\u001b[0;32m     13\u001b[0m \u001b[0mjip\u001b[0m\u001b[1;33m.\u001b[0m\u001b[0mtampilkan_merk\u001b[0m\u001b[1;33m(\u001b[0m\u001b[1;33m)\u001b[0m  \u001b[1;31m# hanya bisa di akses di dlm class, lalu dipanggil method nya\u001b[0m\u001b[1;33m\u001b[0m\u001b[1;33m\u001b[0m\u001b[0m\n\u001b[1;32m---> 14\u001b[1;33m \u001b[0mprint\u001b[0m\u001b[1;33m(\u001b[0m\u001b[1;34mf\"Merk  : {jip._merk}\"\u001b[0m\u001b[1;33m)\u001b[0m  \u001b[1;31m# AttributeError : 'Mobil' object has no attribute '_merk'\u001b[0m\u001b[1;33m\u001b[0m\u001b[1;33m\u001b[0m\u001b[0m\n\u001b[0m",
      "\u001b[1;31mAttributeError\u001b[0m: 'Mobil' object has no attribute '_merk'"
     ]
    }
   ],
   "source": [
    "# Encapsulation : Private\n",
    "\n",
    "class Mobil :\n",
    "    def __init__(self, merk) :\n",
    "        self.__merk = merk\n",
    "\n",
    "    def tampilkan_merk(self) :\n",
    "        print(f\"Merk : {self.__merk}\")\n",
    "\n",
    "jip = Mobil(\"Jeep\")\n",
    "\n",
    "print(jip._Mobil__merk)  # metode/ syntax khusus untuk mengakses atribut private\n",
    "jip.tampilkan_merk()  # hanya bisa di akses di dlm class, lalu dipanggil method nya\n",
    "print(f\"Merk  : {jip._merk}\")  # AttributeError : 'Mobil' object has no attribute '_merk'\n"
   ]
  },
  {
   "cell_type": "code",
   "execution_count": 34,
   "metadata": {},
   "outputs": [
    {
     "name": "stdout",
     "output_type": "stream",
     "text": [
      "Mobil sedan ini dibuat tahun 2021\n",
      "Mobil jeep ini dibuat tahun 1990\n",
      "Mobil toyota ini dibuat tahun 1999\n"
     ]
    }
   ],
   "source": [
    "class Mobil :\n",
    "    def __init__(self, tahun) :\n",
    "        self.tahun = tahun\n",
    "\n",
    "    @property  # Accessor/ getter\n",
    "    def tahun(self) :\n",
    "        return self.__tahun\n",
    "\n",
    "    @tahun.setter  # Mutator/ setter\n",
    "    def tahun(self, tahun) :\n",
    "        if tahun > 2021 :\n",
    "            self.__tahun = 2021\n",
    "        elif tahun < 1990 :\n",
    "            self.__tahun = 1990\n",
    "        else :\n",
    "            self.__tahun = tahun\n",
    "\n",
    "sedan = Mobil(2200)\n",
    "print(f\"Mobil sedan ini dibuat tahun {sedan.tahun}\")\n",
    "\n",
    "jip = Mobil(2200)\n",
    "jip.tahun = 1800\n",
    "print(f\"Mobil jeep ini dibuat tahun {jip.tahun}\")\n",
    "\n",
    "toyota = Mobil(1999)\n",
    "print(f\"Mobil toyota ini dibuat tahun {toyota.tahun}\")"
   ]
  },
  {
   "cell_type": "code",
   "execution_count": 40,
   "metadata": {},
   "outputs": [
    {
     "name": "stdout",
     "output_type": "stream",
     "text": [
      "Atribut Publik\n",
      "Atribut Protected\n",
      "Atribut Privat\n"
     ]
    }
   ],
   "source": [
    "# Encapsulation: Using Public, Protected and Private at the same time\n",
    "\n",
    "class SebuahKelas :\n",
    "    def __init__(self) :\n",
    "        self.publik = \"Atribut Publik\"\n",
    "        self._protected = \"Atribut Protected\"\n",
    "        self.__privat = \"Atribut Privat\"\n",
    "\n",
    "aClass = SebuahKelas()\n",
    "print(aClass.publik)\n",
    "print(aClass._protected)\n",
    "print(aClass._SebuahKelas__privat)    # print(aClass.__privat)"
   ]
  },
  {
   "cell_type": "code",
   "execution_count": null,
   "metadata": {},
   "outputs": [],
   "source": [
    "# Latihan"
   ]
  },
  {
   "cell_type": "code",
   "execution_count": 8,
   "metadata": {},
   "outputs": [
    {
     "name": "stdout",
     "output_type": "stream",
     "text": [
      "Nama Barang   : Antis\n",
      "Jenis Barang  : Hand sanitizer\n",
      "Harga Barang  : Rp.15,000\n",
      "Jumlah Barang : 1\n",
      "Monogami\n",
      "\n",
      "Nama Barang   : Dodo\n",
      "Jenis Barang  : Botol bayi\n",
      "Harga Barang  : Rp.58,000\n",
      "Jumlah Barang : 3\n",
      "Dodo masih tersisa banyak. Jangan takut!\n",
      "\n",
      "Nama Barang   : Apple Envy\n",
      "Jenis Barang  : Buah-buahan\n",
      "Harga Barang  : Rp.100,000\n",
      "Jumlah Barang : 0\n",
      "Monogami\n",
      "\n"
     ]
    }
   ],
   "source": [
    "# Task 2\n",
    "\n",
    "class eCommerce :\n",
    "    def __init__(self, namaBarang, jenisBarang, hargaBarang, jlhBarang):\n",
    "        self.namaBarang = namaBarang\n",
    "        self.jenisBarang = jenisBarang\n",
    "        self.hargaBarang = hargaBarang\n",
    "        self.jlhBarang = jlhBarang\n",
    "\n",
    "    def cekBarang(self) :\n",
    "        if self.jlhBarang > 1 :\n",
    "            print(self.namaBarang, \"masih tersisa banyak. Jangan takut!\")\n",
    "        elif self.jlhBarang <= 1 :\n",
    "            print(\"Monogami\")\n",
    "    \n",
    "    def cetakStok(self) :\n",
    "        print(\"Nama Barang   :\", self.namaBarang)\n",
    "        print(\"Jenis Barang  :\", self.jenisBarang)\n",
    "        print(\"Harga Barang  : Rp. {:,.0f}\".format(self.hargaBarang))\n",
    "        print(\"Jumlah Barang :\", self.jlhBarang)\n",
    "\n",
    "listBarang = []\n",
    "\n",
    "listBarang.append(eCommerce(\"Antis\", \"Hand sanitizer\", 15000, 1))\n",
    "listBarang.append(eCommerce(\"Dodo\", \"Botol bayi\", 58000, 3))\n",
    "listBarang.append(eCommerce(\"Apple Envy\", \"Buah-buahan\", 100000, 0))\n",
    "\n",
    "for barang in listBarang :\n",
    "    barang.cetakStok()\n",
    "    barang.cekBarang()\n",
    "    print()"
   ]
  },
  {
   "cell_type": "code",
   "execution_count": 9,
   "metadata": {},
   "outputs": [
    {
     "name": "stdout",
     "output_type": "stream",
     "text": [
      "Nama           : Cindy\n",
      "Tingkatan      : TK\n",
      "Jam Pengajaran : 2 jam\n",
      "Biaya Les      : Rp. 300,000\n",
      "\n",
      "Nama           : Sintiya\n",
      "Tingkatan      : SMA\n",
      "Jam Pengajaran : 2 jam\n",
      "Biaya Les      : Rp. 1,000,000\n",
      "\n",
      "Nama           : Budi\n",
      "Tingkatan      : SMP\n",
      "Jam Pengajaran : 2 jam\n",
      "Biaya Les      : Rp. 700,000\n",
      "\n",
      "Nama           : Yusuf\n",
      "Tingkatan      : tidak teridentifikasi\n",
      "Jam Pengajaran : 0 jam\n",
      "Biaya Les      : Rp. 0\n",
      "\n"
     ]
    }
   ],
   "source": [
    "# Task 3\n",
    "\n",
    "class lesPrivate :\n",
    "    def __init__(self, nama, gender, kelas, jenis) :\n",
    "        self.nama = nama\n",
    "        self.gender = gender\n",
    "        self.kelas = kelas\n",
    "        self.jenis = jenis\n",
    "\n",
    "        if self.kelas.lower() == \"tk\" :\n",
    "            tingkatan = \"TK\"\n",
    "            biaya = 300000\n",
    "            jamAjar = 2\n",
    "        elif 1 <= int(self.kelas) <= 6 :\n",
    "            tingkatan = \"SD\"\n",
    "            biaya = 500000\n",
    "            jamAjar = 2\n",
    "        elif 7 <= int(self.kelas) <= 9 :\n",
    "            tingkatan = \"SMP\"\n",
    "            biaya = 700000\n",
    "            jamAjar = 2\n",
    "        elif 10 <= int(self.kelas) <= 12 :\n",
    "            tingkatan = \"SMA\"\n",
    "            biaya = 1000000\n",
    "            jamAjar = 2\n",
    "        else :\n",
    "            tingkatan = \"tidak teridentifikasi\"\n",
    "            biaya = 0\n",
    "            jamAjar = 0\n",
    "\n",
    "        self.tingkatan = tingkatan\n",
    "        self.biaya = biaya\n",
    "        self.jamAjar = jamAjar\n",
    "\n",
    "    def cetakKartu(self) :\n",
    "        print(\"Nama           :\", self.nama)\n",
    "        print(\"Tingkatan      :\", self.tingkatan)\n",
    "        print(\"Jam Pengajaran :\", self.jamAjar, \"jam\")\n",
    "        print(\"Biaya Les      : Rp. {:,.0f}\".format(self.biaya))\n",
    "        print()\n",
    "\n",
    "siswa1 = lesPrivate(\"Cindy\", \"Perempuan\", \"TK\", \"Mate\")\n",
    "siswa2 = lesPrivate(\"Sintiya\", \"Perempuan\", \"12\", \"Biologi\")\n",
    "siswa3 = lesPrivate(\"Budi\", \"Laki-laki\", \"7\", \"TIK\")\n",
    "siswa4 = lesPrivate(\"Yusuf\", \"Laki-laki\", \"15\", \"Kimia\")\n",
    "siswa1.cetakKartu()\n",
    "siswa2.cetakKartu()\n",
    "siswa3.cetakKartu()\n",
    "siswa4.cetakKartu()"
   ]
  }
 ],
 "metadata": {
  "kernelspec": {
   "display_name": "Python 3.8.8 ('base')",
   "language": "python",
   "name": "python3"
  },
  "language_info": {
   "codemirror_mode": {
    "name": "ipython",
    "version": 3
   },
   "file_extension": ".py",
   "mimetype": "text/x-python",
   "name": "python",
   "nbconvert_exporter": "python",
   "pygments_lexer": "ipython3",
   "version": "3.8.8 (default, Apr 13 2021, 15:08:03) [MSC v.1916 64 bit (AMD64)]"
  },
  "orig_nbformat": 4,
  "vscode": {
   "interpreter": {
    "hash": "dc07d24e2f18896857f0b2a651fe84ba40ce7b297e58d8804a308c8039f752a6"
   }
  }
 },
 "nbformat": 4,
 "nbformat_minor": 2
}
